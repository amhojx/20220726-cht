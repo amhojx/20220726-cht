{
  "nbformat": 4,
  "nbformat_minor": 0,
  "metadata": {
    "colab": {
      "name": "20220728.ipynb",
      "provenance": [],
      "authorship_tag": "ABX9TyOKmcKKUdFkYr0DPIbDolC3",
      "include_colab_link": true
    },
    "kernelspec": {
      "name": "python3",
      "display_name": "Python 3"
    },
    "language_info": {
      "name": "python"
    }
  },
  "cells": [
    {
      "cell_type": "markdown",
      "metadata": {
        "id": "view-in-github",
        "colab_type": "text"
      },
      "source": [
        "<a href=\"https://colab.research.google.com/github/vcdemy/20220726-cht/blob/main/20220728.ipynb\" target=\"_parent\"><img src=\"https://colab.research.google.com/assets/colab-badge.svg\" alt=\"Open In Colab\"/></a>"
      ]
    },
    {
      "cell_type": "markdown",
      "source": [
        "# 20220728"
      ],
      "metadata": {
        "id": "dMqx7iLdY0bS"
      }
    },
    {
      "cell_type": "markdown",
      "source": [
        "## 複習一下\n",
        "\n",
        "四個基礎的資料型態:\n",
        "* int\n",
        "* float\n",
        "* bool\n",
        "* str\n",
        "\n",
        "四個基礎的容器型別：\n",
        "* list\n",
        "* tuple\n",
        "* dict\n",
        "* set\n",
        "\n",
        "四個基礎的語法：\n",
        "* 條件式 (if)\n",
        "  * 選擇性的執行程式區塊\n",
        "* 迴圈 (loops)\n",
        "  * 反覆執行程式區塊\n",
        "* 函式 (functions)\n",
        "  * 先定義好程式區塊，呼叫的時候再執行\n",
        "* 例外處理 (Exception Handling)\n",
        "  * 嘗試執行某個程式區塊，如果發生錯誤，呼叫另外一個程式區塊來處理錯誤"
      ],
      "metadata": {
        "id": "9l1ayjRGY2mQ"
      }
    },
    {
      "cell_type": "markdown",
      "source": [
        "## if statements"
      ],
      "metadata": {
        "id": "mSLkrZsQZrk-"
      }
    },
    {
      "cell_type": "code",
      "execution_count": null,
      "metadata": {
        "id": "6Lq7daxZYo0V"
      },
      "outputs": [],
      "source": [
        ""
      ]
    }
  ]
}